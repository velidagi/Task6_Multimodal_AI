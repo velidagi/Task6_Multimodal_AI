{
 "cells": [
  {
   "cell_type": "code",
   "execution_count": null,
   "id": "7f19becc",
   "metadata": {},
   "outputs": [],
   "source": []
  },
  {
   "cell_type": "code",
   "execution_count": null,
   "id": "4cac39d3",
   "metadata": {},
   "outputs": [],
   "source": [
    "\n"
   ]
  },
  {
   "cell_type": "code",
   "execution_count": 6,
   "id": "33d32ee1",
   "metadata": {},
   "outputs": [
    {
     "name": "stdout",
     "output_type": "stream",
     "text": [
      "Görüntüdeki metin: \n",
      "\n",
      "Lorem ipsum dolor sit amet. Ab molestiae modi et consequatur nostrum ut ratione #\n",
      "soluta aut omnis repellat et nobis nesciunt aut quia obcaecati. Ut nulla sint sit\n",
      "\n",
      "eaque cupiditate aut repellendus repellat ex odit quibusdam et accusantium\n",
      "\n",
      "aperiam id doloribus modi et beatae voluptatem! Qui incidunt placeat qui\n",
      "\n",
      "numquam sequi ea quis facilis. Vel odit animi eos consequatur deleniti qui placeat\n",
      "esse sit officiis mollitia.\n",
      "\n",
      "Ex ducimus dolor qui error accusamus ut quod nisi ut molestias beatae aut\n",
      "assumenda repudiandae. A nulla quam et dolorum dicta sed dolores rerum non\n",
      "expedita illo. Non quis necessitatibus et officiis impedit non consectetur sequi et\n",
      "molestiae pariatur eum ipsa molestiae sed minus officia eum voluptas voluptatem?\n",
      "Rem dolore obcaecati id cumque enim non error ipsam ex ducimus provident qui\n",
      "blanditiis labore vel iure perspiciatis.\n",
      "\n"
     ]
    }
   ],
   "source": [
    "from PIL import Image\n",
    "import pytesseract\n",
    "\n",
    "# \n",
    "pytesseract.pytesseract.tesseract_cmd = r\"C:\\\\Program Files\\\\Tesseract-OCR\\\\tesseract.exe\"\n",
    "\n",
    "image = Image.open(\"image_to_text.jpg\")\n",
    "\n",
    "text = pytesseract.image_to_string(image, lang=\"eng\")  # Türkçe ise lang=\"tur\"\n",
    "\n",
    "print(\"Görüntüdeki metin: \\n\")\n",
    "print(text)\n"
   ]
  },
  {
   "cell_type": "code",
   "execution_count": null,
   "id": "cd6d95a4",
   "metadata": {},
   "outputs": [],
   "source": []
  }
 ],
 "metadata": {
  "kernelspec": {
   "display_name": "Python 3",
   "language": "python",
   "name": "python3"
  },
  "language_info": {
   "codemirror_mode": {
    "name": "ipython",
    "version": 3
   },
   "file_extension": ".py",
   "mimetype": "text/x-python",
   "name": "python",
   "nbconvert_exporter": "python",
   "pygments_lexer": "ipython3",
   "version": "3.13.3"
  }
 },
 "nbformat": 4,
 "nbformat_minor": 5
}
